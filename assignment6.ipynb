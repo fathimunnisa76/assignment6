{
 "cells": [
  {
   "cell_type": "code",
   "execution_count": 2,
   "id": "f85400b6",
   "metadata": {},
   "outputs": [
    {
     "name": "stdout",
     "output_type": "stream",
     "text": [
      "my friend name is santhoshi .\n",
      "my friend name is anjali .\n",
      "my friend name is neelu .\n",
      "my friend name is sharmila .\n",
      "my friend name is sirisha .\n",
      "my friend name is vasu .\n",
      "my friend name is kusuma .\n",
      "my friend name is nasheena .\n",
      "my friend name is sudha .\n",
      "my friend name is sukeerthi .\n"
     ]
    }
   ],
   "source": [
    "frnds=[\"santhoshi\",\"anjali\",\"neelu\",\"sharmila\",\"sirisha\",\"vasu\",\"kusuma\",\"nasheena\",\"sudha\",\"sukeerthi\"]\n",
    "for i in frnds:\n",
    "    print(\"my friend name is\",i,\".\")"
   ]
  },
  {
   "cell_type": "code",
   "execution_count": 9,
   "id": "28926ab7",
   "metadata": {},
   "outputs": [
    {
     "name": "stdout",
     "output_type": "stream",
     "text": [
      "my family member is fathima .\n",
      "my family member is shahanaz .\n",
      "my family member is saleem .\n",
      "my family member is umar .\n",
      "my family member is ershad .\n",
      "my family member is haseena .\n",
      "my family member is rahman .\n",
      "my family member is sameeunnisa .\n",
      "my family member is usman .\n",
      "my family member is zoya .\n"
     ]
    }
   ],
   "source": [
    "family_members=(\"fathima\",\"shahanaz\",\"saleem\",\"umar\",\"ershad\",\"haseena\",\"rahman\",\"sameeunnisa\",\"usman\",\"zoya\")\n",
    "for i in family_members:\n",
    "    print(\"my family member is\",i,\".\")"
   ]
  },
  {
   "cell_type": "code",
   "execution_count": 2,
   "id": "76189b62",
   "metadata": {},
   "outputs": [
    {
     "name": "stdout",
     "output_type": "stream",
     "text": [
      "egg biryani\n",
      "chicken biryani\n",
      "mutton biryani\n",
      "chicken 65\n",
      "mutton curry\n",
      "fish curry\n",
      "frans curry\n",
      "haleem\n"
     ]
    }
   ],
   "source": [
    "non_veg_names=[\"egg biryani\",\"chicken biryani\",\"mutton biryani\",\"chicken 65\",\"mutton curry\",\"fish curry\",\"frans curry\",\"haleem\"]\n",
    "for item in non_veg_names:\n",
    "    print(item)"
   ]
  },
  {
   "cell_type": "code",
   "execution_count": 8,
   "id": "878447dd",
   "metadata": {},
   "outputs": [
    {
     "name": "stdout",
     "output_type": "stream",
     "text": [
      "pani puri\n",
      "veg pulav\n",
      "samosa\n",
      "kichidi\n",
      "sweets\n",
      "brinjal curry\n",
      "dal\n",
      "ladies finger curry\n",
      "aalu fry\n"
     ]
    }
   ],
   "source": [
    "veg_items=[\"pani puri\",\"veg pulav\",\"samosa\",\"kichidi\",\"sweets\",\"brinjal curry\",\"dal\",\"ladies finger curry\",\"aalu fry\"]\n",
    "for i in veg_items:\n",
    "    print(i)"
   ]
  },
  {
   "cell_type": "code",
   "execution_count": 1,
   "id": "8719cfc8",
   "metadata": {},
   "outputs": [
    {
     "name": "stdout",
     "output_type": "stream",
     "text": [
      "yellow\n",
      "red\n",
      "blue\n",
      "purple\n",
      "pink\n",
      "green\n",
      "orange\n",
      "maroon\n",
      "violet\n",
      "indigo\n"
     ]
    }
   ],
   "source": [
    "colour_names={\"green\",\"red\",\"orange\",\"violet\",\"yellow\",\"blue\",\"indigo\",\"pink\",\"maroon\",\"purple\"}\n",
    "for colour in colour_names:\n",
    "    print(colour)"
   ]
  },
  {
   "cell_type": "code",
   "execution_count": 4,
   "id": "9d579a1a",
   "metadata": {},
   "outputs": [
    {
     "name": "stdout",
     "output_type": "stream",
     "text": [
      "january\n",
      "february\n",
      "march\n",
      "april\n",
      "may\n",
      "june\n",
      "july\n",
      "august\n",
      "september\n",
      "october\n",
      "november\n",
      "december\n"
     ]
    }
   ],
   "source": [
    "month_names=[\"january\",\"february\",\"march\",\"april\",\"may\",\"june\",\"july\",\"august\",\"september\",\"october\",\"november\",\"december\"]\n",
    "for month_name in month_names:\n",
    "    print(month_name)"
   ]
  },
  {
   "cell_type": "code",
   "execution_count": 10,
   "id": "642d7da8",
   "metadata": {},
   "outputs": [
    {
     "name": "stdout",
     "output_type": "stream",
     "text": [
      "9 * 1 = 9\n",
      "9 * 2 = 18\n",
      "9 * 3 = 27\n",
      "9 * 4 = 36\n",
      "9 * 5 = 45\n",
      "9 * 6 = 54\n",
      "9 * 7 = 63\n",
      "9 * 8 = 72\n",
      "9 * 9 = 81\n",
      "9 * 10 = 90\n"
     ]
    }
   ],
   "source": [
    "for i in range(1,11):\n",
    "    print(9,\"*\",i,\"=\",9*i)"
   ]
  },
  {
   "cell_type": "code",
   "execution_count": 4,
   "id": "ef490753",
   "metadata": {},
   "outputs": [
    {
     "name": "stdout",
     "output_type": "stream",
     "text": [
      "12 * 1 = 12\n",
      "12 * 2 = 24\n",
      "12 * 3 = 36\n",
      "12 * 4 = 48\n",
      "12 * 5 = 60\n",
      "12 * 6 = 72\n",
      "12 * 7 = 84\n",
      "12 * 8 = 96\n",
      "12 * 9 = 108\n",
      "12 * 10 = 120\n"
     ]
    }
   ],
   "source": [
    "for i in range(1,11):\n",
    "    print(12,\"*\",i,\"=\",12*i)"
   ]
  },
  {
   "cell_type": "code",
   "execution_count": 6,
   "id": "4452a595",
   "metadata": {},
   "outputs": [
    {
     "name": "stdout",
     "output_type": "stream",
     "text": [
      "12 * 1 = 12\n",
      "12 * 2 = 24\n",
      "12 * 3 = 36\n",
      "12 * 4 = 48\n",
      "12 * 5 = 60\n",
      "12 * 6 = 72\n",
      "12 * 7 = 84\n",
      "12 * 8 = 96\n",
      "12 * 9 = 108\n",
      "12 * 10 = 120\n"
     ]
    }
   ],
   "source": [
    "i=1\n",
    "l=[1,2,3,4,5,6,7,8,9,0]\n",
    "while i<=len(l):\n",
    "    print(\"12\",\"*\",i,\"=\",12*i)\n",
    "    i+=1\n",
    "    "
   ]
  }
 ],
 "metadata": {
  "kernelspec": {
   "display_name": "Python 3 (ipykernel)",
   "language": "python",
   "name": "python3"
  },
  "language_info": {
   "codemirror_mode": {
    "name": "ipython",
    "version": 3
   },
   "file_extension": ".py",
   "mimetype": "text/x-python",
   "name": "python",
   "nbconvert_exporter": "python",
   "pygments_lexer": "ipython3",
   "version": "3.10.9"
  }
 },
 "nbformat": 4,
 "nbformat_minor": 5
}
